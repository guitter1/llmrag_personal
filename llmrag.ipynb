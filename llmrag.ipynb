{
 "cells": [
  {
   "cell_type": "code",
   "execution_count": 1,
   "id": "b3329708-fb80-462b-b7a1-6ed6b342da5e",
   "metadata": {},
   "outputs": [],
   "source": [
    "from langchain_openai import ChatOpenAI\n",
    "from langchain_core.messages import HumanMessage\n",
    "from langchain.document_loaders import PyPDFLoader\n",
    "\n",
    "# 모델 초기화\n",
    "model = ChatOpenAI(model=\"gpt-4o-mini\")\n",
    "\n",
    "# PDF 파일 로드. 파일의 경로 입력\n",
    "loader = PyPDFLoader(\"ai_industry.pdf\")\n",
    "\n",
    "# 페이지 별 문서 로드\n",
    "docs = loader.load()"
   ]
  },
  {
   "cell_type": "code",
   "execution_count": 2,
   "id": "de4b64c1-022f-4eb1-9545-b49467134234",
   "metadata": {},
   "outputs": [],
   "source": [
    "# from langchain.text_splitter import CharacterTextSplitter\n",
    "\n",
    "# text_splitter = CharacterTextSplitter(\n",
    "#     separator=\"\\n\\n\",\n",
    "#     chunk_size=100,\n",
    "#     chunk_overlap=10,\n",
    "#     length_function=len,\n",
    "#     is_separator_regex=False,\n",
    "# )\n",
    "\n",
    "# splits = text_splitter.split_documents(docs)"
   ]
  },
  {
   "cell_type": "markdown",
   "id": "bc9ecf13-1f18-4d46-b8db-f6151a3b4973",
   "metadata": {},
   "source": [
    "# CharacterTextSplitter: 문서를 정해진 기준에 따라 작은 덩어리로 나눠준다.\n",
    "## separator \n",
    "* 문서를 나누는 구분자\n",
    "* 여기서는 줄바꿈2회(\\n\\n) 기준으로 문서를 나눈다.\n",
    "## chunk_size \n",
    "* 분할된 텍스트의 최대길이\n",
    "* spearator로 나눈 문서가 chunk size보다 크면 overlap을 고려해서 100자 이내로 나눈다. \n",
    "* 최종적으로 모든 청크는 100자를 넘지 않는다.\n",
    "## chunk_overlap\n",
    "* 분할한 덩어리 중 겹치는 문자 수로, 덩어리끼리 중복되는 부분을 포함하여 문맥을 더 잘 이해하게 함\n",
    "## length_function\n",
    "* 덩어리 길이 계산함수로 len을 사용한다는 뜻\n",
    "## is_separator_regex\n",
    "* 구분자를 정규 표현식으로 사용할지 여부\n",
    "* 여기서 True 옵션을 주면? 예를 들어 chapter+숫자 라는 단어가 나오면 분할을 한다거나 마침표나 물음표등이 나오면 문할하는 등 복잡한 패턴을 기반으로 분할할 수 있다."
   ]
  },
  {
   "cell_type": "code",
   "execution_count": 4,
   "id": "c8d62092-a76f-4644-8739-f0c1574f2274",
   "metadata": {},
   "outputs": [],
   "source": [
    "# len(splits)"
   ]
  },
  {
   "cell_type": "code",
   "execution_count": 5,
   "id": "2c04491f-4ca6-4a13-ae19-b7d7f6f865e7",
   "metadata": {},
   "outputs": [],
   "source": [
    "#청킹내용이 50개가 안되는데 상위 50개까지 어떻게 출력하지?"
   ]
  },
  {
   "cell_type": "code",
   "execution_count": 6,
   "id": "0f027ffc-bead-40de-9853-705f4ecdbca6",
   "metadata": {},
   "outputs": [],
   "source": [
    "# for i, chunk in enumerate(splits[:50]):\n",
    "#     print(f\"청크 {i + 1}\")\n",
    "#     print(chunk)"
   ]
  },
  {
   "cell_type": "code",
   "execution_count": 7,
   "id": "1b1f1110-55ae-41f7-8783-d271215b62db",
   "metadata": {},
   "outputs": [],
   "source": [
    "from langchain.text_splitter import RecursiveCharacterTextSplitter\n",
    "\n",
    "recursive_text_splitter = RecursiveCharacterTextSplitter(\n",
    "    chunk_size=100,\n",
    "    chunk_overlap=30,\n",
    "    length_function=len,\n",
    "    is_separator_regex=False,\n",
    ")\n",
    "\n",
    "splits = recursive_text_splitter.split_documents(docs)"
   ]
  },
  {
   "cell_type": "markdown",
   "id": "2fae7e15-cd68-494a-8f62-4ca70aace1ee",
   "metadata": {},
   "source": [
    "# RecursiveCharacterTextSplitter\n",
    "* recursive란 재귀하는, 사건이 자기 자신을 포함하고 다시 자기 자신을 사용하여 정의됨을 이르는 말\n",
    "* 길이에 따라 텍스트를 분할하는 것은 charactertextsplitter와 비슷하지만, 주어진 구분자를 여러 번 적용하여 점진적으로 분할한다는 점이 다르다.\n",
    "* 파라미터들은 charactertextsplitter와 크게 다르지 않은데, 차이는 separator를 지정하지 않았다는 점이다.\n",
    "* 구분자를 명시하지 않으면 기본구분자 목록에서 큰 구분자부터 작은 구분자로 점진적으로 텍스트를 나눈다."
   ]
  },
  {
   "cell_type": "code",
   "execution_count": 9,
   "id": "630a51dd-dda8-4c13-94fc-eb420cf767e5",
   "metadata": {},
   "outputs": [
    {
     "name": "stdout",
     "output_type": "stream",
     "text": [
      "청크 1\n",
      "2024년 11월호\n",
      "청크 2\n",
      "2024년 11월호\n",
      "청크 3\n",
      "Ⅰ. 인공지능 산업 동향 브리프 1. 정책/법제    ▹ 미국 민권위원회, 연방정부의 얼굴인식 기술 사용에 따른 민권 영향 분석························1\n",
      "청크 4\n",
      "분석························1   ▹ 미국 백악관 예산관리국, 정부의 책임 있는 AI 조달을 위한 지침\n",
      "청크 5\n",
      "예산관리국, 정부의 책임 있는 AI 조달을 위한 지침 발표·····························2   ▹ 유로폴, 법 집행에서 AI의 이점과 과제를 다룬 보고서\n",
      "청크 6\n",
      "법 집행에서 AI의 이점과 과제를 다룬 보고서 발간··············································3   ▹ OECD, 공공 부문의 AI 도입을\n",
      "청크 7\n",
      "▹ OECD, 공공 부문의 AI 도입을 위한 G7 툴킷 발표··························································4   ▹\n",
      "청크 8\n",
      "▹ 세계경제포럼, 생성AI 시대의 거버넌스 프레임워크 제시····················································5  2. 기업/산업\n",
      "청크 9\n",
      "2. 기업/산업    ▹ CB인사이츠 분석 결과, 2024년 3분기 벤처 투자 31%가 AI 스타트업에 집중··············6   ▹ 메타, 동영상 생성AI 도구\n",
      "청크 10\n",
      "▹ 메타, 동영상 생성AI 도구 ‘메타 무비 젠’\n",
      "청크 11\n",
      "▹ 메타, 동영상 생성AI 도구 ‘메타 무비 젠’ 공개···································································7\n",
      "청크 12\n",
      "▹ 메타, 이미지와 텍스트 처리하는 첫 멀티모달 AI 모델 ‘라마 3.2’ 공개···························8   ▹ 앨런AI연구소, 벤치마크 평가에서\n",
      "청크 13\n",
      "▹ 앨런AI연구소, 벤치마크 평가에서 GPT-4o 능가하는 성능의 오픈소스 LLM ‘몰모’ 공개····9   ▹ 미스트랄AI, 온디바이스용 AI 모델 ‘레 미니스트로’\n",
      "청크 14\n",
      "온디바이스용 AI 모델 ‘레 미니스트로’ 공개·················································10   ▹ 카카오, 통합 AI 브랜드 겸\n",
      "청크 15\n",
      "▹ 카카오, 통합 AI 브랜드 겸 신규 AI 서비스 ‘카나나’ 공개···············································11 3. 기술/연구\n",
      "청크 16\n",
      "3. 기술/연구   ▹ 2024년 노벨 물리학상과 화학상, AI 관련 연구자들이 수상············································12   ▹\n",
      "청크 17\n",
      "▹ 미국 국무부, AI 연구에서 국제협력을 위한 ‘글로벌 AI 연구 의제’ 발표························13   ▹ 일본 AI안전연구소, AI 안전성에 대한\n",
      "청크 18\n",
      "▹ 일본 AI안전연구소, AI 안전성에 대한 평가 관점 가이드 발간········································14   ▹ 구글 딥마인드, 반도체\n",
      "청크 19\n",
      "▹ 구글 딥마인드, 반도체 칩 레이아웃 설계하는 AI 모델 ‘알파칩’ 발표·····························15   ▹ AI21 CEO, AI 에이전트에\n",
      "청크 20\n",
      "▹ AI21 CEO, AI 에이전트에 트랜스포머 아키텍처의 대안 필요성 강조····························16    4. 인력/교육        ▹ MIT\n",
      "청크 21\n",
      "4. 인력/교육        ▹ MIT 산업성과센터, 근로자 관점에서 자동화 기술의 영향 조사········································17\n",
      "청크 22\n",
      "▹ 다이스 조사, AI 전문가의 73%는 2025년 중 이직 고려················································18   ▹ 가트너\n",
      "청크 23\n",
      "▹ 가트너 예측, AI로 인해 엔지니어링 인력의 80%가 역량 향상 필요 ·····························19   ▹ 인디드 조사 결과, 생성AI가 인간\n",
      "청크 24\n",
      "▹ 인디드 조사 결과, 생성AI가 인간 근로자 대체할 가능성은 희박·····································20\n",
      "청크 25\n",
      "Ⅱ. 주요 행사  ▹NeurIPS 2024\n",
      "청크 26\n",
      "···································································································\n",
      "청크 27\n",
      "·················································21\n",
      "청크 28\n",
      "▹GenAI Summit Maroc 2024\n",
      "청크 29\n",
      "·····························································································21\n",
      "청크 30\n",
      "▹AI Summit Seoul 2024\n",
      "청크 31\n",
      "···································································································\n",
      "청크 32\n",
      "································21\n",
      "청크 33\n",
      "Ⅰ. 인공지능 산업 동향 브리프\n",
      "청크 34\n",
      "1. 정책/법제  2. 기업/산업 3. 기술/연구  4. 인력/교육\n",
      "1\n",
      "청크 35\n",
      "미국 민권위원회, 연방정부의 얼굴인식 기술 사용에 따른 민권 영향 분석n미국 민권위원회에 따르면 연방정부와 법 집행기관에서 얼굴인식 기술이 빠르게 도입되고 있으나 이를 관리할\n",
      "청크 36\n",
      "얼굴인식 기술이 빠르게 도입되고 있으나 이를 관리할 지침과 감독의 부재로 민권 문제를 초래할 위험 존재n미국 민권위원회는 연방정부의 책임 있는 얼굴인식 기술 사용을 위해 운영\n",
      "청크 37\n",
      "연방정부의 책임 있는 얼굴인식 기술 사용을 위해 운영 프로토콜 개발과 실제 사용 상황의 얼굴인식 기술 평가 및 불평등 완화, 지역사회의 의견 수렴 등을 권고\n",
      "청크 38\n",
      "KEY Contents\n",
      "청크 39\n",
      "£연방정부의 얼굴인식 기술 도입에 대한 지침과 감독 부재로 민권 문제를 초래할 위험 존재n미국 민권위원회(U.S. Commission on Civil Rights)가 2024년\n",
      "청크 40\n",
      "on Civil Rights)가 2024년 9월 19일 연방정부의 얼굴인식 기술 사용이 민권에 미치는 영향을 분석한 보고서를 발간∙AI 기술의 일종인 얼굴인식 기술은 연방정부와\n",
      "청크 41\n",
      "발간∙AI 기술의 일종인 얼굴인식 기술은 연방정부와 법 집행기관에서 빠르게 도입되고 있으며, 일례로 법무부 연방수사국(FBI)은 범죄 수사 및 용의자 수색용 단서 확보를 위해\n",
      "청크 42\n",
      "범죄 수사 및 용의자 수색용 단서 확보를 위해 얼굴인식 기술을 가장 빈번히 사용∙그러나 얼굴인식 기술의 책임 있는 사용을 위한 연방 지침과 감독은 실제 활용 사례보다 뒤처졌으며,\n",
      "청크 43\n",
      "연방 지침과 감독은 실제 활용 사례보다 뒤처졌으며, 현재 연방정부의 얼굴인식 기술이나 여타 AI 기술 사용을 명시적으로 규제하는 법률도 부재  n보고서에 따르면 얼굴인식 기술의\n",
      "청크 44\n",
      "법률도 부재  n보고서에 따르면 얼굴인식 기술의 무분별한 사용은 편향, 개인정보 침해, 적법 절차의 미준수 및 차별적 영향과 같은 민권 문제를 초래할 위험 보유∙얼굴인식 기술의\n",
      "청크 45\n",
      "같은 민권 문제를 초래할 위험 보유∙얼굴인식 기술의 정확도는 인종, 성별, 연령 등 인구통계학적 요인에 따라 달라질 수 있으며, 이는 식별 오류 및 부정확한 체포로 이어져\n",
      "청크 46\n",
      "있으며, 이는 식별 오류 및 부정확한 체포로 이어져 유색인종을 비롯한 특정 집단에 차별적 결과를 초래할 위험 존재∙정부 기관이 사전 영장이나 정당한 이유 없이 얼굴인식 기술을\n",
      "청크 47\n",
      "사전 영장이나 정당한 이유 없이 얼굴인식 기술을 광범위하게 사용할 경우 개인을 지속적으로 추적하고 감시함으로써 개인정보 보호 권리에 심각한 영향을 미칠 위험 존재∙법 집행기관의\n",
      "청크 48\n",
      "권리에 심각한 영향을 미칠 위험 존재∙법 집행기관의 얼굴인식 기술 사용 시 부정확한 식별 및 편향으로 인해 개인이 법의 보호를 받아 공정하고 올바르게 대우받을 권리를 침해할\n",
      "청크 49\n",
      "보호를 받아 공정하고 올바르게 대우받을 권리를 침해할 가능성도 존재£민권위원회, 연방정부의 책임 있는 얼굴인식 기술 사용을 위한 권고사항 제시n민권위원회는 연방정부의 얼굴인식\n",
      "청크 50\n",
      "위한 권고사항 제시n민권위원회는 연방정부의 얼굴인식 기술 사용과 관련해 다음과 같은 권고사항을 제시∙국립표준기술연구소(NIST)는 정부 기관의 얼굴인식 기술 시스템 도입 시의\n"
     ]
    }
   ],
   "source": [
    "for i, chunk in enumerate(splits[:50]):\n",
    "    print(f\"청크 {i + 1}\")\n",
    "    print(chunk.page_content)"
   ]
  },
  {
   "cell_type": "code",
   "execution_count": 10,
   "id": "94f344a6-d740-4d88-84c6-6725761a0511",
   "metadata": {},
   "outputs": [
    {
     "name": "stdout",
     "output_type": "stream",
     "text": [
      "청크 1\n",
      "기술이 엔지니어링의 필수 역량이 될 전망* 외부 데이터를 활용하여 LLM의 출력 정확성을 향상하는 기술∙장기적으로는 기업 내 AI 기반 소프트웨어 수요가 증가하면서 이를 충족하기\n",
      "청크 2\n",
      "AI 기반 소프트웨어 수요가 증가하면서 이를 충족하기 위해 소프트웨어 엔지니어링, 데이터 과학, AI/ML(머신러닝) 분야의 고유한 기술을 갖춘 훨씬 숙련된 AI 엔지니어가\n",
      "청크 3\n",
      "고유한 기술을 갖춘 훨씬 숙련된 AI 엔지니어가 부상할 전망£AI 엔지니어를 지원하기 위해 기업의 AI 개발자 플랫폼 투자 필요n가트너가 2023년 4분기에 미국과 영국 기업\n",
      "청크 4\n",
      "필요n가트너가 2023년 4분기에 미국과 영국 기업 300개를 대상으로 실시한 설문조사에 따르면 소프트웨어 엔지니어링 책임자의 56%가 AI/ML 엔지니어를 2024년 가장\n",
      "청크 5\n",
      "56%가 AI/ML 엔지니어를 2024년 가장 수요가 많은 직업으로 평가∙기업들은 AI 엔지니어를 지원하기 위해 AI 개발자 플랫폼에 투자해야 하며, AI 개발자 플랫폼은 기업이\n",
      "청크 6\n",
      "플랫폼에 투자해야 하며, AI 개발자 플랫폼은 기업이 AI 역량을 더욱 효율적으로 구축하고 AI를 기업 솔루션에 대규모로 통합하는 데 도움이 될 전망∙기업들은 AI 개발자 플랫폼\n",
      "청크 7\n",
      "데 도움이 될 전망∙기업들은 AI 개발자 플랫폼 투자를 통해 소프트웨어 엔지니어링팀의 역량을 강화하고 지속적인 AI 통합과 개발을 추진하는 도구와 프로세스를 채택 필요 ☞\n",
      "청크 8\n",
      "개발을 추진하는 도구와 프로세스를 채택 필요 ☞  출처: Gartner, Gartner Says Generative AI will Require 80% of Engineering\n",
      "청크 9\n",
      "Require 80% of Engineering Workforce to Upskill Through 2027, 2024.10.03.\n",
      "청크 10\n",
      "SPRi AI Brief |  2024-11월호\n",
      "20\n",
      "청크 11\n",
      "인디드 조사 결과, 생성AI가 인간 근로자 대체할 가능성은 희박n인디드가 2,800개 이상의 직무 기술에 대한 생성AI의 수행 능력을 분석해 인간을 대체할 가능성을 평가한 결과,\n",
      "청크 12\n",
      "능력을 분석해 인간을 대체할 가능성을 평가한 결과, 생성AI로 대체될 가능성이 “매우 높은” 것으로 평가된 기술은 전무n생성AI의 최대 강점은 직무 기술과 관련된 이론적 지식을\n",
      "청크 13\n",
      "최대 강점은 직무 기술과 관련된 이론적 지식을 제공하는 능력이며, 물리적 작업 수행이 필요한 직무 기술에서는 인간 근로자를 대체할 가능성이 희박\n",
      "청크 14\n",
      "KEY Contents\n",
      "청크 15\n",
      "£생성AI, 문제 해결 역량 및 물리적 작업 수행 역량의 부족으로 인간 근로자 대체에 한계n미국의 채용 플랫폼 인디드(Indeed) 산하 연구소 하이어링랩(Hiring Lab)이\n",
      "청크 16\n",
      "산하 연구소 하이어링랩(Hiring Lab)이 2024년 9월 25일 발표한 연구 결과에 따르면 생성AI가 인간 근로자를 대체할 가능성은 희박∙인디드 하이어링랩은 오픈AI의\n",
      "청크 17\n",
      "대체할 가능성은 희박∙인디드 하이어링랩은 오픈AI의 GPT-4o로 2,800개 이상의 고유한 직무 기술에 대한 생성AI의 수행 능력을 분석해 생성AI가 인간을 대체할 가능성을\n",
      "청크 18\n",
      "수행 능력을 분석해 생성AI가 인간을 대체할 가능성을 평가∙연구진은 오픈AI의 GPT-4o가 △기술과 관련된 이론적 지식의 제공 역량 △기술을 사용한 문제 해결 역량 △기술 활용\n",
      "청크 19\n",
      "역량 △기술을 사용한 문제 해결 역량 △기술 활용 시 물리적 작업의 중요성에 관한 판단 능력의 3개 차원에서 자체 수행 능력을 평가하도록 진행 ∙다섯 가지 선택지(매우 낮음,\n",
      "청크 20\n",
      "평가하도록 진행 ∙다섯 가지 선택지(매우 낮음, 낮음, 보통, 높음, 매우 높음)로 평가 결과, 인디드가 평가 대상으로 삼은 2,800개 이상의 직무 기술 중 68.7%는\n",
      "청크 21\n",
      "삼은 2,800개 이상의 직무 기술 중 68.7%는 생성AI로 대체될 가능성이 “매우 낮음” 또는 “낮음”으로 평가됐으며, “매우 높음”으로 평가된 기술은 전무n생성AI는 직무\n",
      "청크 22\n",
      "“매우 높음”으로 평가된 기술은 전무n생성AI는 직무 기술의 이론적 지식을 제공하는 자체 능력을 다소 높게 평가했으나, 문제 해결 능력 및 물리적 작업의 중요성에 관한 판단\n",
      "청크 23\n",
      "문제 해결 능력 및 물리적 작업의 중요성에 관한 판단 능력은 상대적으로 낮게 평가∙생성AI는 직무 기술 중 79.7%에 이론적 지식의 제공 능력을 4점(높음)으로, 기술 중\n",
      "청크 24\n",
      "이론적 지식의 제공 능력을 4점(높음)으로, 기술 중 70.7%에 문제 해결 역량을 3점(보통)으로 평가했으며, 기술 중 54%에 대하여 물리적 작업의 필요성이 “높음” 또는\n",
      "청크 25\n",
      "54%에 대하여 물리적 작업의 필요성이 “높음” 또는 “매우 높음”이라고 평가** 매우 낮음(very unlikely 1점), 낮음(unlikely, 2점),\n",
      "청크 26\n",
      "1점), 낮음(unlikely, 2점), 보통(possible, 3점), 높음(likely, 4점), 매우 높음(very likely, 5점) ∙생성AI는 물리적 작업을 수행할\n",
      "청크 27\n",
      "5점) ∙생성AI는 물리적 작업을 수행할 몸체가 없어 실제 작업 수행이 필요한 직무 기술에서는 인간 근로자를 대체할 가능성이 제한적∙일례로 생성AI는 디지털 기술 비중이 큰\n",
      "청크 28\n",
      "제한적∙일례로 생성AI는 디지털 기술 비중이 큰 소프트웨어 개발 직종의 구인 공고에서 통상 제시되는 직무 기술의 71%에 대하여 인간을 대체할 가능성이 “보통” 또는 “높음”으로\n",
      "청크 29\n",
      "인간을 대체할 가능성이 “보통” 또는 “높음”으로 평가했으나, 간호사 직종의 구인 공고에 제시되는 기술의 약 32.9%만 생성AI로 대체될 가능성이 “보통” 또는 “높음”으로\n",
      "청크 30\n",
      "생성AI로 대체될 가능성이 “보통” 또는 “높음”으로 평가  n인디드는 현재 생성AI의 최대 강점은 직무 기술과 관련된 이론적 지식을 제공하는 능력이라고 강조∙생성AI는 직원\n",
      "청크 31\n",
      "지식을 제공하는 능력이라고 강조∙생성AI는 직원 생산성을 극대화하여 노동 시장의 경색을 완화할 수 있으며, 물리적 작업 수행이 필요한 직업에서도 근로자가 핵심 업무에 집중할 수\n",
      "청크 32\n",
      "필요한 직업에서도 근로자가 핵심 업무에 집중할 수 있도록 지원 가능  ∙그러나 생성AI는 논리적 오류나 사실과 다른 내용 또는 편향이나 차별과 같은 비윤리적 응답을 출력할\n",
      "청크 33\n",
      "또는 편향이나 차별과 같은 비윤리적 응답을 출력할 가능성도 있으므로 인간의 신중한 검토 필요☞  출처: Indeed Hiring Lab, AI at Work: Why GenAI\n",
      "청크 34\n",
      "Lab, AI at Work: Why GenAI Is More Likely To Support Workers Than Replace Them, 2024.09.25.\n",
      "청크 35\n",
      "21\n",
      "행사명행사 주요 개요\n",
      "NeurIPS 2024\n",
      "청크 36\n",
      "-신경정보처리시스템재단은 인공지능과 머신러닝 분야의 연구 성과 교환을 촉진하는 것을 목적으로 하는 비영리 법인으로 매년 학제간 학술대회(NeurIPS)를 주최-이번 제38회\n",
      "청크 37\n",
      "학제간 학술대회(NeurIPS)를 주최-이번 제38회 연례학술대회는 AI 연구자를 위한 실험 설계,  LLM을 위한 메타 생성 알고리즘, 정렬에 대한 학제 간 통찰력 등을 다룰\n",
      "청크 38\n",
      "알고리즘, 정렬에 대한 학제 간 통찰력 등을 다룰 예정기간장소 홈페이지2024.12.10~15캐나다 밴쿠버 https://neurips.cc/ GenAI Summit Maroc\n",
      "청크 39\n",
      "GenAI Summit Maroc 2024\n",
      "청크 40\n",
      "-GenAI Summit Maroc 2024는 인공지능과 데이터 분석에 초점을 맞춘 최고의 이벤트로, 250명 이상의 업계 리더, 정책 입안자, 전문가가 모여 AI 발전을\n",
      "청크 41\n",
      "업계 리더, 정책 입안자, 전문가가 모여 AI 발전을 탐구-이번 행사에는 오픈소스 AI, AI 주도 사이버 보안, 우수한 의사결정을 위한 생성AI와 예측 AI 결합 등을 다룰\n",
      "청크 42\n",
      "의사결정을 위한 생성AI와 예측 AI 결합 등을 다룰 예정기간장소 홈페이지2024.12.10~11모로코 https://genaimaroc.com/\n",
      "청크 43\n",
      "AI Summit Seoul 2024\n",
      "청크 44\n",
      "-AI Summit Seoul 행사는 2018년 개최를 시작으로 금년도는 7회 행사로 개최-이번 행사는 AI와 산업의 융합에 초점을 두고 다양한 글로벌 기업과 기관, 학계 전문가\n",
      "청크 45\n",
      "초점을 두고 다양한 글로벌 기업과 기관, 학계 전문가 등 전문가들이 한자리에 모여 AI 및 산업 트렌드 등에 대한 주제 발표 및 워크샵 진행 기간장소\n",
      "청크 46\n",
      "트렌드 등에 대한 주제 발표 및 워크샵 진행 기간장소 홈페이지2024.12.10~11서울(코엑스 그랜드볼룸) https://aisummit.co.kr/\n",
      "청크 47\n",
      "Ⅱ. 주요 행사 일정\n",
      "청크 48\n",
      "경기도 성남시 분당구 대왕판교로 712번길 22 글로벌 R&D 연구동(B) 4층22, Daewangpangyo-ro 712beon-gil, Bundang-gu,\n",
      "청크 49\n",
      "712beon-gil, Bundang-gu, Seongnam-si, Gyeonggi-do, Republic of Korea, 13488\n",
      "청크 50\n",
      "홈페이지 : https://spri.kr/보고서와 관련된 문의는 AI정책연구실(hs.lee@spri.kr, 031-739-7333)로 연락주시기 바랍니다.\n"
     ]
    }
   ],
   "source": [
    "for i, chunk in enumerate(splits[-50:]):\n",
    "    print(f\"청크 {i + 1}\")\n",
    "    print(chunk.page_content)"
   ]
  },
  {
   "cell_type": "code",
   "execution_count": 11,
   "id": "61ff64a3-7785-485c-ac90-9a04fb3009ee",
   "metadata": {},
   "outputs": [],
   "source": [
    "import faiss\n",
    "from langchain_community.vectorstores import FAISS\n",
    "from langchain_openai import OpenAIEmbeddings\n",
    "\n",
    "# OpenAI 임베딩 모델 초기화\n",
    "embeddings = OpenAIEmbeddings(model=\"text-embedding-ada-002\")\n",
    "\n",
    "vectorstore = FAISS.from_documents(documents=splits, embedding=embeddings)\n",
    "\n",
    "retriever = vectorstore.as_retriever(search_type=\"similarity\", search_kwargs={\"k\": 3})"
   ]
  },
  {
   "cell_type": "code",
   "execution_count": 12,
   "id": "0c172a32-e372-42bc-869c-db78984d4839",
   "metadata": {},
   "outputs": [],
   "source": [
    "from langchain_core.prompts import ChatPromptTemplate\n",
    "from langchain_core.runnables import RunnablePassthrough\n",
    "\n",
    "# 프롬프트 템플릿 정의\n",
    "contextual_prompt = ChatPromptTemplate.from_messages([\n",
    "    (\"system\", \"Answer the question using only the following context.\"),\n",
    "    (\"user\", \"Context: {context}\\\\n\\\\nQuestion: {question}\")\n",
    "])\n",
    "\n",
    "class DebugPassThrough(RunnablePassthrough):\n",
    "    def invoke(self, *args, **kwargs):\n",
    "        output = super().invoke(*args, **kwargs)\n",
    "        print(\"Debug Output:\", output)\n",
    "        return output\n",
    "# 문서 리스트를 텍스트로 변환하는 단계 추가\n",
    "class ContextToText(RunnablePassthrough):\n",
    "    def invoke(self, inputs, config=None, **kwargs):  # config 인수 추가\n",
    "        # context의 각 문서를 문자열로 결합\n",
    "        context_text = \"\\n\".join([doc.page_content for doc in inputs[\"context\"]])\n",
    "        return {\"context\": context_text, \"question\": inputs[\"question\"]}\n",
    "\n",
    "# RAG 체인에서 각 단계마다 DebugPassThrough 추가\n",
    "rag_chain_debug = {\n",
    "    \"context\": retriever,                    # 컨텍스트를 가져오는 retriever\n",
    "    \"question\": DebugPassThrough()        # 사용자 질문이 그대로 전달되는지 확인하는 passthrough\n",
    "}  | DebugPassThrough() | ContextToText()|   contextual_prompt | model"
   ]
  },
  {
   "cell_type": "code",
   "execution_count": 13,
   "id": "f34adc6f-cc1b-4018-8681-78e12c5a3a41",
   "metadata": {},
   "outputs": [
    {
     "name": "stdout",
     "output_type": "stream",
     "text": [
      "========================\n"
     ]
    },
    {
     "name": "stdin",
     "output_type": "stream",
     "text": [
      "질문을 입력하세요:  바이든이 정부의 책임있는 ai 조달지침을 발표한 날짜는?\n"
     ]
    },
    {
     "name": "stdout",
     "output_type": "stream",
     "text": [
      "Debug Output: 바이든이 정부의 책임있는 ai 조달지침을 발표한 날짜는?\n",
      "Debug Output: {'context': [Document(metadata={'source': 'ai_industry.pdf', 'page': 4}, page_content='바이든 대통령의 AI 행정명령에 따른 후속 조치로 2024년 10월 3일 ‘정부의 책임 있는 AI 조달 지침(M-24-18)’을 발표∙미국 연방정부는 2023년 1,000억 달러'), Document(metadata={'source': 'ai_industry.pdf', 'page': 1}, page_content='예산관리국, 정부의 책임 있는 AI 조달을 위한 지침 발표·····························2   ▹ 유로폴, 법 집행에서 AI의 이점과 과제를 다룬 보고서'), Document(metadata={'source': 'ai_industry.pdf', 'page': 4}, page_content='미국 백악관 예산관리국, 정부의 책임 있는 AI 조달을 위한 지침 발표n미국 백악관 예산관리국이 바이든 대통령의 AI 행정명령에 따라 연방정부의 책임 있는 AI 조달을 지원하기')], 'question': '바이든이 정부의 책임있는 ai 조달지침을 발표한 날짜는?'}\n",
      "Final Response:\n",
      "2024년 10월 3일입니다.\n",
      "========================\n"
     ]
    },
    {
     "name": "stdin",
     "output_type": "stream",
     "text": [
      "질문을 입력하세요:  ai 안전성 평가 관점 중 견고성과 관련된 ai 안정성 요소는?\n"
     ]
    },
    {
     "name": "stdout",
     "output_type": "stream",
     "text": [
      "Debug Output: ai 안전성 평가 관점 중 견고성과 관련된 ai 안정성 요소는?\n",
      "Debug Output: {'context': [Document(metadata={'source': 'ai_industry.pdf', 'page': 16}, page_content='<AI 안전성의 핵심 요소를 고려한 AI 안전성 평가 관점>'), Document(metadata={'source': 'ai_industry.pdf', 'page': 16}, page_content='△프라이버시 보호 △보안 △투명성을 제시하고, 이를 달성하기 위한 10가지 평가 관점 및 평가를 통한 효과적 조치 이후의 기대 목표를 수립평가 관점관련 AI 안전성 요소 기대'), Document(metadata={'source': 'ai_industry.pdf', 'page': 16}, page_content='일본 AI안전연구소, AI 안전성에 대한 평가 관점 가이드 발간n일본 AI안전연구소는 AI 개발자나 제공자가 안전성 평가에 참조할 수 있는 ‘AI 안전성에 대한 평가 관점')], 'question': 'ai 안전성 평가 관점 중 견고성과 관련된 ai 안정성 요소는?'}\n",
      "Final Response:\n",
      "주어진 문맥에는 '견고성'에 관련된 AI 안전성 요소에 대한 구체적인 언급이 없습니다. 따라서 AI 안전성 평가 관점 중 견고성과 관련된 요소는 명시되어 있지 않습니다.\n",
      "========================\n"
     ]
    },
    {
     "name": "stdin",
     "output_type": "stream",
     "text": [
      "질문을 입력하세요:  2024년 10월 8일에 일어난 일은?\n"
     ]
    },
    {
     "name": "stdout",
     "output_type": "stream",
     "text": [
      "Debug Output: 2024년 10월 8일에 일어난 일은?\n",
      "Debug Output: {'context': [Document(metadata={'source': 'ai_industry.pdf', 'page': 0}, page_content='2024년 11월호'), Document(metadata={'source': 'ai_industry.pdf', 'page': 1}, page_content='2024년 11월호'), Document(metadata={'source': 'ai_industry.pdf', 'page': 7}, page_content='£생성AI 거버넌스, 과거-현재-미래를 아우르는 프레임워크 수립 필요n세계경제포럼(WEF)이 2024년 10월 8일 세계 각국의 정책입안자를 대상으로 생성AI 거버넌스')], 'question': '2024년 10월 8일에 일어난 일은?'}\n",
      "Final Response:\n",
      "2024년 10월 8일에 세계경제포럼(WEF)이 세계 각국의 정책입안자를 대상으로 생성AI 거버넌스에 대한 프레임워크 수립 필요성을 논의했습니다.\n",
      "========================\n"
     ]
    },
    {
     "name": "stdin",
     "output_type": "stream",
     "text": [
      "질문을 입력하세요:  세계경제포럼이 생성ai 거버넌스 프레임워크를 제시한 백서를 발간한 날짜는?\n"
     ]
    },
    {
     "name": "stdout",
     "output_type": "stream",
     "text": [
      "Debug Output: 세계경제포럼이 생성ai 거버넌스 프레임워크를 제시한 백서를 발간한 날짜는?\n",
      "Debug Output: {'context': [Document(metadata={'source': 'ai_industry.pdf', 'page': 7}, page_content='세계경제포럼, 생성AI 시대의 거버넌스 프레임워크 제시n세계경제포럼이 글로벌 정책입안자를 대상으로 생성AI의 공익적 활용과 경제·사회적 균형 달성, 위험 완화를 위한 거버넌스'), Document(metadata={'source': 'ai_industry.pdf', 'page': 1}, page_content='▹ 세계경제포럼, 생성AI 시대의 거버넌스 프레임워크 제시····················································5  2. 기업/산업'), Document(metadata={'source': 'ai_industry.pdf', 'page': 7}, page_content='£생성AI 거버넌스, 과거-현재-미래를 아우르는 프레임워크 수립 필요n세계경제포럼(WEF)이 2024년 10월 8일 세계 각국의 정책입안자를 대상으로 생성AI 거버넌스')], 'question': '세계경제포럼이 생성ai 거버넌스 프레임워크를 제시한 백서를 발간한 날짜는?'}\n",
      "Final Response:\n",
      "세계경제포럼이 생성AI 거버넌스 프레임워크를 제시한 백서는 2024년 10월 8일에 발간되었습니다.\n",
      "========================\n"
     ]
    },
    {
     "name": "stdin",
     "output_type": "stream",
     "text": [
      "질문을 입력하세요:  메타 무비 젠은 어떤 모델보다 인간 선호도 평가에서 더 높은 점수를 받았을까\n"
     ]
    },
    {
     "name": "stdout",
     "output_type": "stream",
     "text": [
      "Debug Output: 메타 무비 젠은 어떤 모델보다 인간 선호도 평가에서 더 높은 점수를 받았을까\n",
      "Debug Output: {'context': [Document(metadata={'source': 'ai_industry.pdf', 'page': 9}, page_content='<메타 무비 젠과 경쟁 AI 모델의 인간 선호도 평가 승률>'), Document(metadata={'source': 'ai_industry.pdf', 'page': 9}, page_content='비롯한 경쟁 동영상 생성AI 모델보다 더 높은 점수를 기록∙메타 무비 젠과 경쟁 모델에 대하여 세 명의 인간 평가자가 점수를 매겨 비교 후 순승률(Net Win Rate)*을'), Document(metadata={'source': 'ai_industry.pdf', 'page': 9}, page_content='매겨 비교 후 순승률(Net Win Rate)*을 계산한 결과, 메타 무비 젠은 젠 3와 소라, 클링(Kling) 1.5를 모두 능가* 두 모델(A와 B)에 대하여 3명의 인간')], 'question': '메타 무비 젠은 어떤 모델보다 인간 선호도 평가에서 더 높은 점수를 받았을까'}\n",
      "Final Response:\n",
      "메타 무비 젠은 젠 3와 소라, 클링(Kling) 1.5보다 더 높은 점수를 받았다.\n",
      "========================\n"
     ]
    },
    {
     "name": "stdin",
     "output_type": "stream",
     "text": [
      "질문을 입력하세요:  메타 무비 젠은 어떤 모델보다 어떤 항목에서 더 높은 점수를 받았을까\n"
     ]
    },
    {
     "name": "stdout",
     "output_type": "stream",
     "text": [
      "Debug Output: 메타 무비 젠은 어떤 모델보다 어떤 항목에서 더 높은 점수를 받았을까\n",
      "Debug Output: {'context': [Document(metadata={'source': 'ai_industry.pdf', 'page': 9}, page_content='비롯한 경쟁 동영상 생성AI 모델보다 더 높은 점수를 기록∙메타 무비 젠과 경쟁 모델에 대하여 세 명의 인간 평가자가 점수를 매겨 비교 후 순승률(Net Win Rate)*을'), Document(metadata={'source': 'ai_industry.pdf', 'page': 12}, page_content='가진 오픈소스 모델 젬마 및 라마와 비교해 대부분 벤치마크에서 더 높은 평가를 획득'), Document(metadata={'source': 'ai_industry.pdf', 'page': 9}, page_content='매겨 비교 후 순승률(Net Win Rate)*을 계산한 결과, 메타 무비 젠은 젠 3와 소라, 클링(Kling) 1.5를 모두 능가* 두 모델(A와 B)에 대하여 3명의 인간')], 'question': '메타 무비 젠은 어떤 모델보다 어떤 항목에서 더 높은 점수를 받았을까'}\n",
      "Final Response:\n",
      "메타 무비 젠은 젠 3와 소라, 클링(Kling) 1.5보다 더 높은 점수를 받았다.\n",
      "========================\n"
     ]
    },
    {
     "name": "stdin",
     "output_type": "stream",
     "text": [
      "질문을 입력하세요:  어떤 항목에서 높은 점수를 받았는지\n"
     ]
    },
    {
     "name": "stdout",
     "output_type": "stream",
     "text": [
      "Debug Output: 어떤 항목에서 높은 점수를 받았는지\n",
      "Debug Output: {'context': [Document(metadata={'source': 'ai_industry.pdf', 'page': 11}, page_content='평균 점수에서 68.6점, 인간 선호도 평가는 1,032점으로 각각 71.1점과 1,041점을 받은 GPT-4V과 경쟁할 수 있는 수준'), Document(metadata={'source': 'ai_industry.pdf', 'page': 11}, page_content='기록했으며 인간 선호도 평가에서는 1077점으로 GPT-4o(1079점)에 이어 2위∙전문가혼합 모델인 몰모E-1B는 벤치마크 평균 점수에서 68.6점, 인간 선호도 평가는'), Document(metadata={'source': 'ai_industry.pdf', 'page': 22}, page_content='평가하도록 진행 ∙다섯 가지 선택지(매우 낮음, 낮음, 보통, 높음, 매우 높음)로 평가 결과, 인디드가 평가 대상으로 삼은 2,800개 이상의 직무 기술 중 68.7%는')], 'question': '어떤 항목에서 높은 점수를 받았는지'}\n",
      "Final Response:\n",
      "평균 점수에서 68.6점과 인간 선호도 평가에서 1,032점을 기록하여 GPT-4V과 경쟁할 수 있는 수준을 보였습니다. 또한 인간 선호도 평가에서는 1077점으로 GPT-4o(1079점)에 이어 2위를 기록했습니다.\n",
      "========================\n"
     ]
    },
    {
     "name": "stdin",
     "output_type": "stream",
     "text": [
      "질문을 입력하세요:  ai summit seoul 행사는 올해 몇 번째 행사인가\n"
     ]
    },
    {
     "name": "stdout",
     "output_type": "stream",
     "text": [
      "Debug Output: ai summit seoul 행사는 올해 몇 번째 행사인가\n",
      "Debug Output: {'context': [Document(metadata={'source': 'ai_industry.pdf', 'page': 23}, page_content='-AI Summit Seoul 행사는 2018년 개최를 시작으로 금년도는 7회 행사로 개최-이번 행사는 AI와 산업의 융합에 초점을 두고 다양한 글로벌 기업과 기관, 학계 전문가'), Document(metadata={'source': 'ai_industry.pdf', 'page': 23}, page_content='AI Summit Seoul 2024'), Document(metadata={'source': 'ai_industry.pdf', 'page': 23}, page_content='트렌드 등에 대한 주제 발표 및 워크샵 진행 기간장소 홈페이지2024.12.10~11서울(코엑스 그랜드볼룸) https://aisummit.co.kr/')], 'question': 'ai summit seoul 행사는 올해 몇 번째 행사인가'}\n",
      "Final Response:\n",
      "AI Summit Seoul 행사는 올해 7번째 행사입니다.\n",
      "========================\n"
     ]
    },
    {
     "name": "stdin",
     "output_type": "stream",
     "text": [
      "질문을 입력하세요:  ai summit seoul의 개최장소는?\n"
     ]
    },
    {
     "name": "stdout",
     "output_type": "stream",
     "text": [
      "Debug Output: ai summit seoul의 개최장소는?\n",
      "Debug Output: {'context': [Document(metadata={'source': 'ai_industry.pdf', 'page': 23}, page_content='AI Summit Seoul 2024'), Document(metadata={'source': 'ai_industry.pdf', 'page': 23}, page_content='-AI Summit Seoul 행사는 2018년 개최를 시작으로 금년도는 7회 행사로 개최-이번 행사는 AI와 산업의 융합에 초점을 두고 다양한 글로벌 기업과 기관, 학계 전문가'), Document(metadata={'source': 'ai_industry.pdf', 'page': 23}, page_content='트렌드 등에 대한 주제 발표 및 워크샵 진행 기간장소 홈페이지2024.12.10~11서울(코엑스 그랜드볼룸) https://aisummit.co.kr/')], 'question': 'ai summit seoul의 개최장소는?'}\n",
      "Final Response:\n",
      "AI Summit Seoul의 개최장소는 서울 코엑스 그랜드볼룸입니다.\n",
      "========================\n"
     ]
    },
    {
     "name": "stdin",
     "output_type": "stream",
     "text": [
      "질문을 입력하세요:  neurlPS의 개최장소는?\n"
     ]
    },
    {
     "name": "stdout",
     "output_type": "stream",
     "text": [
      "Debug Output: neurlPS의 개최장소는?\n",
      "Debug Output: {'context': [Document(metadata={'source': 'ai_industry.pdf', 'page': 23}, page_content='21\\n행사명행사 주요 개요\\nNeurIPS 2024'), Document(metadata={'source': 'ai_industry.pdf', 'page': 1}, page_content='Ⅱ. 주요 행사  ▹NeurIPS 2024'), Document(metadata={'source': 'ai_industry.pdf', 'page': 23}, page_content='-신경정보처리시스템재단은 인공지능과 머신러닝 분야의 연구 성과 교환을 촉진하는 것을 목적으로 하는 비영리 법인으로 매년 학제간 학술대회(NeurIPS)를 주최-이번 제38회')], 'question': 'neurlPS의 개최장소는?'}\n",
      "Final Response:\n",
      "NeurIPS 2024의 개최장소에 대한 정보는 제공된 context에 포함되어 있지 않습니다.\n",
      "========================\n"
     ]
    },
    {
     "name": "stdin",
     "output_type": "stream",
     "text": [
      "질문을 입력하세요:  캐나다 밴쿠버에서 열리는 행사는?\n"
     ]
    },
    {
     "name": "stdout",
     "output_type": "stream",
     "text": [
      "Debug Output: 캐나다 밴쿠버에서 열리는 행사는?\n",
      "Debug Output: {'context': [Document(metadata={'source': 'ai_industry.pdf', 'page': 23}, page_content='Ⅱ. 주요 행사 일정'), Document(metadata={'source': 'ai_industry.pdf', 'page': 23}, page_content='트렌드 등에 대한 주제 발표 및 워크샵 진행 기간장소 홈페이지2024.12.10~11서울(코엑스 그랜드볼룸) https://aisummit.co.kr/'), Document(metadata={'source': 'ai_industry.pdf', 'page': 23}, page_content='알고리즘, 정렬에 대한 학제 간 통찰력 등을 다룰 예정기간장소 홈페이지2024.12.10~15캐나다 밴쿠버 https://neurips.cc/ GenAI Summit Maroc')], 'question': '캐나다 밴쿠버에서 열리는 행사는?'}\n",
      "Final Response:\n",
      "캐나다 밴쿠버에서 열리는 행사는 알고리즘, 정렬에 대한 학제 간 통찰력 등을 다루는 행사입니다. 기간은 2024년 12월 10일부터 15일까지입니다.\n",
      "========================\n"
     ]
    },
    {
     "name": "stdin",
     "output_type": "stream",
     "text": [
      "질문을 입력하세요:  GenAI Summit Maroc 2024의 개최장소는?\n"
     ]
    },
    {
     "name": "stdout",
     "output_type": "stream",
     "text": [
      "Debug Output: GenAI Summit Maroc 2024의 개최장소는?\n",
      "Debug Output: {'context': [Document(metadata={'source': 'ai_industry.pdf', 'page': 23}, page_content='GenAI Summit Maroc 2024'), Document(metadata={'source': 'ai_industry.pdf', 'page': 1}, page_content='▹GenAI Summit Maroc 2024'), Document(metadata={'source': 'ai_industry.pdf', 'page': 23}, page_content='알고리즘, 정렬에 대한 학제 간 통찰력 등을 다룰 예정기간장소 홈페이지2024.12.10~15캐나다 밴쿠버 https://neurips.cc/ GenAI Summit Maroc')], 'question': 'GenAI Summit Maroc 2024의 개최장소는?'}\n",
      "Final Response:\n",
      "GenAI Summit Maroc 2024의 개최장소는 캐나다 밴쿠버입니다.\n",
      "========================\n"
     ]
    },
    {
     "name": "stdin",
     "output_type": "stream",
     "text": [
      "질문을 입력하세요:  exit\n"
     ]
    }
   ],
   "source": [
    "while True: \n",
    "    print(\"========================\")\n",
    "    query = input(\"질문을 입력하세요: \")\n",
    "    if query == \"exit\":\n",
    "        break\n",
    "    response = rag_chain_debug.invoke(query)\n",
    "\n",
    "    print(\"Final Response:\")\n",
    "    print(response.content)"
   ]
  },
  {
   "cell_type": "markdown",
   "id": "4660208c-9c05-4981-9e38-66ef3dc2946d",
   "metadata": {},
   "source": [
    "# RAG의 필요성\n",
    "- RAG를 사용하면 최신정보를 실시간 검색 또는 내부 데이터베이스를 참고하여 알아낼 수 있다.\n",
    "- RAG가 없으면 훈련된 데이터셋만을 기반으로 답변을 하게 되어 훈련시점 이후 일어난 일을 답변하는데는 한계가 있다.\n",
    "- 위의 챗봇에 특정 문서나 비공개 자료등을 제공하면 조직 내에서 필요한 자료를 검색하는 전용 챗봇을 만들 수 있다.\n",
    "\n",
    "# chat GPT의 답변과 비교\n",
    "- chpat GPT가 검색해서 답변을 더 잘한다. 검색 못하는 모델한테 물어봐야되나? chat gpt 3.5도 검색을 잘 한다.\n",
    "\n",
    "# 하이퍼파라미터 튜닝\n",
    "- 위의 챗봇이 특정 질문에 제대로 답변하지 못하기 때문에, 몇가지 하이퍼파라미터를 조정했다.\n",
    "- 현재 조정한것은 overlap과 k값인데, chunk size를 조정하거나 프롬프트에서 여러 조건을 줄 수 있다.\n",
    "\n",
    "# 이 모델의 개선점\n",
    "- 표를 제대로 읽지 못한다. pdfplumber 필요"
   ]
  }
 ],
 "metadata": {
  "kernelspec": {
   "display_name": "DL",
   "language": "python",
   "name": "dl"
  },
  "language_info": {
   "codemirror_mode": {
    "name": "ipython",
    "version": 3
   },
   "file_extension": ".py",
   "mimetype": "text/x-python",
   "name": "python",
   "nbconvert_exporter": "python",
   "pygments_lexer": "ipython3",
   "version": "3.8.20"
  }
 },
 "nbformat": 4,
 "nbformat_minor": 5
}
