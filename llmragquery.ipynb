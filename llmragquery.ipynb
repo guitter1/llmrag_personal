{
 "cells": [
  {
   "cell_type": "code",
   "execution_count": 4,
   "id": "89f20ba8-e26c-45e4-b05b-ab1a62948a37",
   "metadata": {},
   "outputs": [],
   "source": [
    "from langchain_openai import ChatOpenAI\n",
    "from langchain_core.messages import HumanMessage\n",
    "from langchain.document_loaders import PyPDFLoader\n",
    "\n",
    "# 모델 초기화\n",
    "model = ChatOpenAI(model=\"gpt-4o-mini\")\n",
    "\n",
    "# PDF 파일 로드. 파일의 경로 입력\n",
    "loader = PyPDFLoader(\"ai_industry.pdf\")\n",
    "\n",
    "# 페이지 별 문서 로드\n",
    "docs = loader.load()\n",
    "\n",
    "from langchain.text_splitter import RecursiveCharacterTextSplitter\n",
    "\n",
    "recursive_text_splitter = RecursiveCharacterTextSplitter(\n",
    "    chunk_size=100,\n",
    "    chunk_overlap=30,\n",
    "    length_function=len,\n",
    "    is_separator_regex=False,\n",
    ")\n",
    "\n",
    "splits = recursive_text_splitter.split_documents(docs)\n",
    "\n",
    "import faiss\n",
    "from langchain_community.vectorstores import FAISS\n",
    "from langchain_openai import OpenAIEmbeddings\n",
    "\n",
    "# OpenAI 임베딩 모델 초기화\n",
    "embeddings = OpenAIEmbeddings(model=\"text-embedding-ada-002\")\n",
    "\n",
    "vectorstore = FAISS.from_documents(documents=splits, embedding=embeddings)\n",
    "\n",
    "retriever = vectorstore.as_retriever(search_type=\"similarity\", search_kwargs={\"k\": 3})\n",
    "\n",
    "from langchain_core.prompts import ChatPromptTemplate\n",
    "from langchain_core.runnables import RunnablePassthrough\n",
    "\n",
    "# 프롬프트 템플릿 정의\n",
    "contextual_prompt = ChatPromptTemplate.from_messages([\n",
    "    (\"system\", \"Answer the question using only the following context.\"),\n",
    "    (\"user\", \"Context: {context}\\\\n\\\\nQuestion: {question}\")\n",
    "])\n",
    "\n",
    "class DebugPassThrough(RunnablePassthrough):\n",
    "    def invoke(self, *args, **kwargs):\n",
    "        output = super().invoke(*args, **kwargs)\n",
    "        print(\"Debug Output:\", output)\n",
    "        return output\n",
    "# 문서 리스트를 텍스트로 변환하는 단계 추가\n",
    "class ContextToText(RunnablePassthrough):\n",
    "    def invoke(self, inputs, config=None, **kwargs):  # config 인수 추가\n",
    "        # context의 각 문서를 문자열로 결합\n",
    "        context_text = \"\\n\".join([doc.page_content for doc in inputs[\"context\"]])\n",
    "        return {\"context\": context_text, \"question\": inputs[\"question\"]}\n",
    "\n",
    "# RAG 체인에서 각 단계마다 DebugPassThrough 추가\n",
    "rag_chain_debug = {\n",
    "    \"context\": retriever,                    # 컨텍스트를 가져오는 retriever\n",
    "    \"question\": DebugPassThrough()        # 사용자 질문이 그대로 전달되는지 확인하는 passthrough\n",
    "}  | DebugPassThrough() | ContextToText()|   contextual_prompt | model"
   ]
  },
  {
   "cell_type": "code",
   "execution_count": 6,
   "id": "a4e8d652-b856-483f-978a-f13e6efa02bb",
   "metadata": {},
   "outputs": [
    {
     "name": "stdout",
     "output_type": "stream",
     "text": [
      "========================\n"
     ]
    },
    {
     "name": "stdin",
     "output_type": "stream",
     "text": [
      "질문을 입력하세요:  유로폴의 법집행 보고서를 요약해줘\n"
     ]
    },
    {
     "name": "stdout",
     "output_type": "stream",
     "text": [
      "Debug Output: 유로폴의 법집행 보고서를 요약해줘\n",
      "Debug Output: {'context': [Document(metadata={'source': 'ai_industry.pdf', 'page': 5}, page_content='유로폴, 법 집행에서 AI의 이점과 과제를 다룬 보고서 발간n유로폴의 보고서에 따르면 AI는 고급 데이터 분석, 디지털 증거 수집, 이미지와 비디오 분석 등에 활용되어 법 집행'), Document(metadata={'source': 'ai_industry.pdf', 'page': 5}, page_content='£유로폴, 법 집행에서 AI 기술의 윤리적이고 투명한 구현을 위한 고려사항 제시nEU 사법기관 유로폴(Europol)이 2024년 9월 24일 법 집행에서 효과적 범죄 퇴치를'), Document(metadata={'source': 'ai_industry.pdf', 'page': 1}, page_content='예산관리국, 정부의 책임 있는 AI 조달을 위한 지침 발표·····························2   ▹ 유로폴, 법 집행에서 AI의 이점과 과제를 다룬 보고서')], 'question': '유로폴의 법집행 보고서를 요약해줘'}\n",
      "Final Response:\n",
      "유로폴은 법 집행에서 AI의 이점과 과제를 다룬 보고서를 발표하였으며, AI가 고급 데이터 분석, 디지털 증거 수집, 이미지 및 비디오 분석 등 다양한 분야에서 활용될 수 있음을 강조했습니다. 보고서는 또한 AI 기술의 윤리적이고 투명한 구현을 위한 고려사항을 제시하고, 법 집행에서 효과적인 범죄 퇴치를 위한 방안을 모색하고 있습니다.\n",
      "========================\n"
     ]
    },
    {
     "name": "stdin",
     "output_type": "stream",
     "text": [
      "질문을 입력하세요:  oecd가 무슨일을 했지\n"
     ]
    },
    {
     "name": "stdout",
     "output_type": "stream",
     "text": [
      "Debug Output: oecd가 무슨일을 했지\n",
      "Debug Output: {'context': [Document(metadata={'source': 'ai_industry.pdf', 'page': 6}, page_content='발간∙OECD는 G7 회원국이 작성한 설문 응답 및 OECD와 UNESCO의 연구를 토대로 공공 부문에서 AI 활용 모범사례와 거버넌스 프레임워크, 정책 옵션과 관련된 종합적'), Document(metadata={'source': 'ai_industry.pdf', 'page': 1}, page_content='▹ OECD, 공공 부문의 AI 도입을 위한 G7 툴킷 발표··························································4   ▹'), Document(metadata={'source': 'ai_industry.pdf', 'page': 6}, page_content='£OECD, G7의 사례를 토대로 공공 부문의 AI 도입을 안내하는 지침 마련nOECD가 2024년 10월 15일 안전하고 신뢰할 수 있는 AI의 원칙을 실행 가능한 정책으로')], 'question': 'oecd가 무슨일을 했지'}\n",
      "Final Response:\n",
      "OECD는 G7 회원국의 설문 응답 및 연구를 바탕으로 공공 부문에서 AI 활용 모범사례와 거버넌스 프레임워크, 정책 옵션에 대한 종합적인 가이드라인을 마련하고, 2024년 10월 15일에 안전하고 신뢰할 수 있는 AI의 원칙을 실행 가능한 정책으로 발표했습니다.\n",
      "========================\n"
     ]
    },
    {
     "name": "stdin",
     "output_type": "stream",
     "text": [
      "질문을 입력하세요:  cb인사이츠는 스타트업에 대해 어떻게 생각하는지 알려줘\n"
     ]
    },
    {
     "name": "stdout",
     "output_type": "stream",
     "text": [
      "Debug Output: cb인사이츠는 스타트업에 대해 어떻게 생각하는지 알려줘\n",
      "Debug Output: {'context': [Document(metadata={'source': 'ai_industry.pdf', 'page': 8}, page_content='£AI 스타트업, 벤처 투자의 최우선 고려 대상으로 부상n글로벌 리서치 기업 CB인사이츠(CB Insights)가 2024년 10월 3일 발표한 2024년 3분기 벤처 현황'), Document(metadata={'source': 'ai_industry.pdf', 'page': 8}, page_content='CB인사이츠 분석 결과, 2024년 3분기 벤처 투자 31%가 AI 스타트업에 집중nCB인사이츠에 따르면 2024년 3분기 AI 스타트업은 전체 벤처 투자의 31%를 유치했으며,'), Document(metadata={'source': 'ai_industry.pdf', 'page': 8}, page_content='스타트업은 전체 벤처 투자의 31%를 유치했으며, AI 스타트업의 투자금 회수 시점은 일반 기업보다 6년 빠른 것으로 확인n그러나 CB인사이츠는 투자자들의 낙관적 기대에도')], 'question': 'cb인사이츠는 스타트업에 대해 어떻게 생각하는지 알려줘'}\n",
      "Final Response:\n",
      "CB인사이츠는 AI 스타트업에 대해 긍정적으로 평가하고 있으며, 이들 스타트업이 전체 벤처 투자에서 31%를 차지하고 있다는 점을 강조하고 있습니다. 또한, AI 스타트업의 투자금 회수 시점이 일반 기업보다 6년 빠른 것으로 나타나 투자자들에게 매력적인 대상으로 인식되고 있음을 보여줍니다.\n",
      "========================\n"
     ]
    },
    {
     "name": "stdin",
     "output_type": "stream",
     "text": [
      "질문을 입력하세요:  라마 3.2의 우수한 점은\n"
     ]
    },
    {
     "name": "stdout",
     "output_type": "stream",
     "text": [
      "Debug Output: 라마 3.2의 우수한 점은\n",
      "Debug Output: {'context': [Document(metadata={'source': 'ai_industry.pdf', 'page': 10}, page_content='향상n라마 3.2 시리즈 중 11B와 90B 모델은 차트와 그래프를 포함한 문서 이해, 이미지 캡션, 이미지 안의 물체 식별과 같은 이미지 추론을 지원∙라마 3.2는 이미지에서'), Document(metadata={'source': 'ai_industry.pdf', 'page': 10}, page_content='같은 이미지 추론을 지원∙라마 3.2는 이미지에서 세부 정보를 추출하고 장면을 이해하여 이미지 캡션으로 사용할 수 있도록 내용을 전달하는 문장을 생성 가능∙이미지 인식과 시각적'), Document(metadata={'source': 'ai_industry.pdf', 'page': 10}, page_content='및 파이-3.5-미니(12.8점)를 능가n메타는 라마 3.2 출시와 함께 개발자들이 라마 모델을 더욱 쉽고 효율적으로 사용할 수 있도록 지원하는 표준화 인터페이스인 ‘라마')], 'question': '라마 3.2의 우수한 점은'}\n",
      "Final Response:\n",
      "라마 3.2의 우수한 점은 차트와 그래프를 포함한 문서 이해, 이미지 캡션 생성, 이미지 안의 물체 식별 등의 이미지 추론을 지원하는 능력입니다. 또한, 이미지에서 세부 정보를 추출하고 장면을 이해하여 내용을 전달하는 문장을 생성할 수 있으며, 이미지 인식과 시각적 인지 능력이 뛰어난 점도 장점입니다.\n",
      "========================\n"
     ]
    },
    {
     "name": "stdin",
     "output_type": "stream",
     "text": [
      "질문을 입력하세요:  라마 3.2의 단점은\n"
     ]
    },
    {
     "name": "stdout",
     "output_type": "stream",
     "text": [
      "Debug Output: 라마 3.2의 단점은\n",
      "Debug Output: {'context': [Document(metadata={'source': 'ai_industry.pdf', 'page': 10}, page_content='향상n라마 3.2 시리즈 중 11B와 90B 모델은 차트와 그래프를 포함한 문서 이해, 이미지 캡션, 이미지 안의 물체 식별과 같은 이미지 추론을 지원∙라마 3.2는 이미지에서'), Document(metadata={'source': 'ai_industry.pdf', 'page': 10}, page_content='‘라마(Llama)’ 시리즈 최초로 이미지와 텍스트를 모두 처리하는 ‘라 마 3.2’를 공개∙라마 3.2 시리즈는 이미지를 처리하는 비전(Vision) 기능을 갖춘 매개변수'), Document(metadata={'source': 'ai_industry.pdf', 'page': 10}, page_content='같은 이미지 추론을 지원∙라마 3.2는 이미지에서 세부 정보를 추출하고 장면을 이해하여 이미지 캡션으로 사용할 수 있도록 내용을 전달하는 문장을 생성 가능∙이미지 인식과 시각적')], 'question': '라마 3.2의 단점은'}\n",
      "Final Response:\n",
      "주어진 맥락에는 라마 3.2의 단점에 대한 정보가 포함되어 있지 않습니다.\n",
      "========================\n"
     ]
    },
    {
     "name": "stdin",
     "output_type": "stream",
     "text": [
      "질문을 입력하세요:  몰모와 라마 중 더 우수한것은?\n"
     ]
    },
    {
     "name": "stdout",
     "output_type": "stream",
     "text": [
      "Debug Output: 몰모와 라마 중 더 우수한것은?\n",
      "Debug Output: {'context': [Document(metadata={'source': 'ai_industry.pdf', 'page': 12}, page_content='가진 오픈소스 모델 젬마 및 라마와 비교해 대부분 벤치마크에서 더 높은 평가를 획득'), Document(metadata={'source': 'ai_industry.pdf', 'page': 12}, page_content='능가 * 다양한 주제에 대한 모델의 광범위한 지식과 추론 능력을 평가하는 벤치마크∙미스트랄 8B는 코딩 능력을 평가하는 HumanEval pass@1*에서만 34.8점으로 ‘라마'), Document(metadata={'source': 'ai_industry.pdf', 'page': 12}, page_content='매개변수를 가진 오픈소스 모델 젬마(Gemma)와 라마(Llama)보다 대부분 벤치마크에서 더 높은 평가를 획득∙MMLU* 평가에서 미스트랄 3B는 60.9점을 얻어 구글의')], 'question': '몰모와 라마 중 더 우수한것은?'}\n",
      "Final Response:\n",
      "주어진 맥락에 따르면, 미스트랄 8B 모델이 젬마와 라마보다 대부분의 벤치마크에서 더 높은 평가를 받았다고 언급되어 있습니다. 그러나 몰모에 대한 언급은 없으므로, 몰모와 라마를 비교하는 정보는 제공되지 않습니다. 따라서, 제공된 정보로는 몰모와 라마 중 어느 것이 더 우수한지 판단할 수 없습니다.\n",
      "========================\n"
     ]
    },
    {
     "name": "stdin",
     "output_type": "stream",
     "text": [
      "질문을 입력하세요:  카나나가 무슨뜻이지?\n"
     ]
    },
    {
     "name": "stdout",
     "output_type": "stream",
     "text": [
      "Debug Output: 카나나가 무슨뜻이지?\n",
      "Debug Output: {'context': [Document(metadata={'source': 'ai_industry.pdf', 'page': 13}, page_content='대화 내용만 기억해 이용자를 지원하며, 가령 스터디 그룹대화에서 함께 읽은 논문 관련 퀴즈를 내주고 채점과 부연 설명을 제공 ∙카카오는 카나나를 카카오톡과 별개의 앱으로 출시할'), Document(metadata={'source': 'ai_industry.pdf', 'page': 13}, page_content='공개하고 통합 AI 브랜드 ‘카나나(Kanana)’를 발표∙사명인 카카오와 함께, ‘나에게 배워 나처럼 생각하고 행동한다’는 의미의 네이티브(Native), ‘배우지 않아도'), Document(metadata={'source': 'ai_industry.pdf', 'page': 13}, page_content='£카카오의 신규 AI 서비스 ‘카나나’, 개인메이트 ‘나나’와 그룹메이트 ‘카나’로 구현 n카카오가 2024년 10월 22~24일 열린 개발자 컨퍼런스')], 'question': '카나나가 무슨뜻이지?'}\n",
      "Final Response:\n",
      "카나나는 '나에게 배워 나처럼 생각하고 행동한다'는 의미를 가지고 있습니다.\n",
      "========================\n"
     ]
    },
    {
     "name": "stdin",
     "output_type": "stream",
     "text": [
      "질문을 입력하세요:  노벨상 수상자들에 대해 알려줘\n"
     ]
    },
    {
     "name": "stdout",
     "output_type": "stream",
     "text": [
      "Debug Output: 노벨상 수상자들에 대해 알려줘\n",
      "Debug Output: {'context': [Document(metadata={'source': 'ai_industry.pdf', 'page': 1}, page_content='3. 기술/연구   ▹ 2024년 노벨 물리학상과 화학상, AI 관련 연구자들이 수상············································12   ▹'), Document(metadata={'source': 'ai_industry.pdf', 'page': 14}, page_content='£노벨 물리학상, 인공 신경망 연구한 존 홉필드 교수와 제프리 힌턴 교수가 수상n스웨덴 왕립과학원 노벨위원회는 2024년 10월 8일 존 홉필드(John Hopfield) 미국'), Document(metadata={'source': 'ai_industry.pdf', 'page': 14}, page_content='2024년 노벨 물리학상과 화학상, AI 관련 연구자들이 수상n2024년 노벨 물리학상은 물리학 원리를 바탕으로 인공 신경망을 이용한 머신러닝의 토대가 되는 방법을 개발한 존')], 'question': '노벨상 수상자들에 대해 알려줘'}\n",
      "Final Response:\n",
      "2024년 노벨 물리학상은 인공 신경망 연구에 기여한 존 홉필드 교수와 제프리 힌턴 교수가 수상하였습니다. 이들은 물리학 원리를 바탕으로 인공 신경망을 이용한 머신러닝의 기초가 되는 방법을 개발한 공로로 인정받았습니다.\n",
      "========================\n"
     ]
    },
    {
     "name": "stdin",
     "output_type": "stream",
     "text": [
      "질문을 입력하세요:  데미스 하사비스가 누구야\n"
     ]
    },
    {
     "name": "stdout",
     "output_type": "stream",
     "text": [
      "Debug Output: 데미스 하사비스가 누구야\n",
      "Debug Output: {'context': [Document(metadata={'source': 'ai_industry.pdf', 'page': 14}, page_content='데이비드 베이커 및 단백질 구조를 예측하는 AI 모델을 개발한 딥마인드의 데미스 허사비스와 존 점퍼가 수상'), Document(metadata={'source': 'ai_industry.pdf', 'page': 14}, page_content='예측 AI 모델 개발한 딥마인드 연구진 등 3인이 수상n데이비드 베이커(David Baker) 미국 워싱턴⼤ 교수와 데미스 허사비스(Demis Hassabis) 구글 딥마인드'), Document(metadata={'source': 'ai_industry.pdf', 'page': 14}, page_content='허사비스(Demis Hassabis) 구글 딥마인드 CEO, 존 점퍼(John Jumper) 구글 딥마인드 수석 연구원은 새로운 단백질 생성 및 AI를 활용한 단백질 구조 예측에')], 'question': '데미스 하사비스가 누구야'}\n",
      "Final Response:\n",
      "데미스 하사비스(Demis Hassabis)는 구글 딥마인드의 CEO입니다.\n",
      "========================\n"
     ]
    },
    {
     "name": "stdin",
     "output_type": "stream",
     "text": [
      "질문을 입력하세요:  gaira가 뭐야\n"
     ]
    },
    {
     "name": "stdout",
     "output_type": "stream",
     "text": [
      "Debug Output: gaira가 뭐야\n",
      "Debug Output: {'context': [Document(metadata={'source': 'ai_industry.pdf', 'page': 15}, page_content='이로운 방식으로 개발·사용되는 AI R&D에 대한 포괄적이고 조정된 접근방식을 마련하고자 GAIRA를 작성하고, AI 연구에서 3가지 권장 원칙으로 △포용성·형평성 △책임 있는'), Document(metadata={'source': 'ai_industry.pdf', 'page': 15}, page_content='수행하고 노동 시장에 미치는 AI의 부정적 영향을 완화하기 위한 전략을 수립n국무부는 GAIRA를 통해 연구 기금 제공자, 연구 생태계 허브, 연구팀과 같은 이해관계자별로 연구'), Document(metadata={'source': 'ai_industry.pdf', 'page': 15}, page_content='이하 GAIRA)’를 발표∙국무부는 2023년 10월 30일 바이든 대통령이 서명한 AI 행정명령에 따라 모든 사람에게 이로운 방식으로 개발·사용되는 AI R&D에 대한')], 'question': 'gaira가 뭐야'}\n",
      "Final Response:\n",
      "GAIRA는 이로운 방식으로 개발·사용되는 AI R&D에 대한 포괄적이고 조정된 접근방식을 마련하기 위해 작성된 것으로, AI 연구에서 포용성·형평성 및 책임 있는 수행을 강조하며 노동 시장에 미치는 AI의 부정적 영향을 완화하기 위한 전략을 수립하는 것입니다.\n",
      "========================\n"
     ]
    },
    {
     "name": "stdin",
     "output_type": "stream",
     "text": [
      "질문을 입력하세요:  gira는 누가 언제 발표했지?\n"
     ]
    },
    {
     "name": "stdout",
     "output_type": "stream",
     "text": [
      "Debug Output: gira는 누가 언제 발표했지?\n",
      "Debug Output: {'context': [Document(metadata={'source': 'ai_industry.pdf', 'page': 15}, page_content='이하 GAIRA)’를 발표∙국무부는 2023년 10월 30일 바이든 대통령이 서명한 AI 행정명령에 따라 모든 사람에게 이로운 방식으로 개발·사용되는 AI R&D에 대한'), Document(metadata={'source': 'ai_industry.pdf', 'page': 15}, page_content='위한 R&D 원칙과 우선순위, 권장 사항을 제시한 ‘글로벌 AI 연구 의제(Global AI Research Agenda, 이하 GAIRA)’를 발표∙국무부는 2023년 10월'), Document(metadata={'source': 'ai_industry.pdf', 'page': 15}, page_content='이로운 방식으로 개발·사용되는 AI R&D에 대한 포괄적이고 조정된 접근방식을 마련하고자 GAIRA를 작성하고, AI 연구에서 3가지 권장 원칙으로 △포용성·형평성 △책임 있는')], 'question': 'gira는 누가 언제 발표했지?'}\n",
      "Final Response:\n",
      "GAIRA는 미국 국무부가 2023년 10월 30일 발표했습니다.\n",
      "========================\n"
     ]
    },
    {
     "name": "stdin",
     "output_type": "stream",
     "text": [
      "질문을 입력하세요:  구글 딥마인드가 공개한 ai 모델에 대해 설명해줘\n"
     ]
    },
    {
     "name": "stdout",
     "output_type": "stream",
     "text": [
      "Debug Output: 구글 딥마인드가 공개한 ai 모델에 대해 설명해줘\n",
      "Debug Output: {'context': [Document(metadata={'source': 'ai_industry.pdf', 'page': 17}, page_content='구글 딥마인드, 반도체 칩 레이아웃 설계하는 AI 모델 ‘알파칩’ 발표n구글 딥마인드가 강화학습 방식으로 반도체 칩 레이아웃을 설계하여 사람이 몇 주에서 몇 달이 걸리는 수준의'), Document(metadata={'source': 'ai_industry.pdf', 'page': 1}, page_content='▹ 구글 딥마인드, 반도체 칩 레이아웃 설계하는 AI 모델 ‘알파칩’ 발표·····························15   ▹ AI21 CEO, AI 에이전트에'), Document(metadata={'source': 'ai_industry.pdf', 'page': 10}, page_content='모델은 다양한 이미지 인식과 시각적 이해 작업에서 앤스로픽의 ‘클로드3-하이쿠’ 및 오픈AI의 ‘GPT-4o-미니’와 대등한 수준의 성능 보유')], 'question': '구글 딥마인드가 공개한 ai 모델에 대해 설명해줘'}\n",
      "Final Response:\n",
      "구글 딥마인드가 공개한 AI 모델 '알파칩'은 강화학습 방식을 사용하여 반도체 칩의 레이아웃을 설계하는 모델입니다. 이 모델은 사람이 설계하는 데 몇 주에서 몇 달이 걸리는 작업을 효율적으로 수행할 수 있는 능력을 가지고 있습니다.\n",
      "========================\n"
     ]
    },
    {
     "name": "stdin",
     "output_type": "stream",
     "text": [
      "질문을 입력하세요:  알파칩은 무엇을 할수있지?\n"
     ]
    },
    {
     "name": "stdout",
     "output_type": "stream",
     "text": [
      "Debug Output: 알파칩은 무엇을 할수있지?\n",
      "Debug Output: {'context': [Document(metadata={'source': 'ai_industry.pdf', 'page': 17}, page_content='칩 레이아웃 설계를 개선해 설계주기를 단축하고 더 높은 성능의 칩 생산에 기여n알파칩은 바둑에 특화된 알파고(AlphaGo) 및 바둑, 체스, 쇼기(일본 장기)를 마스터한'), Document(metadata={'source': 'ai_industry.pdf', 'page': 17}, page_content='설계하여 사람이 몇 주에서 몇 달이 걸리는 수준의 칩 레이아웃을 몇 시간 만에 생성하는 AI 모델 ‘알파칩’을 공개n구글은 2020년 처음 알파칩에 관한 연구 논문을 발표한 뒤,'), Document(metadata={'source': 'ai_industry.pdf', 'page': 17}, page_content='및 바둑, 체스, 쇼기(일본 장기)를 마스터한 알파제로(AlphaZero)와 비슷하게 칩 레이아웃 설계를 게임처럼 접근∙알파칩은 모든 부품을 배치할 때까지 한 번에 하나의 회로')], 'question': '알파칩은 무엇을 할수있지?'}\n",
      "Final Response:\n",
      "알파칩은 칩 레이아웃 설계를 개선하여 설계 주기를 단축하고 더 높은 성능의 칩을 생산할 수 있습니다. 또한, 사람이 몇 주에서 몇 달이 걸리는 수준의 칩 레이아웃을 몇 시간 만에 생성할 수 있는 AI 모델입니다.\n",
      "========================\n"
     ]
    },
    {
     "name": "stdin",
     "output_type": "stream",
     "text": [
      "질문을 입력하세요:  알파칩의 활용방안은?\n"
     ]
    },
    {
     "name": "stdout",
     "output_type": "stream",
     "text": [
      "Debug Output: 알파칩의 활용방안은?\n",
      "Debug Output: {'context': [Document(metadata={'source': 'ai_industry.pdf', 'page': 17}, page_content='개발 중으로, 향후 알파칩이 칩 설계주기의 전 단계를 최적화하고 스마트폰, 의료 장비, 농업 센서 등에 사용되는 맞춤형 하드웨어의 칩 설계에 혁신을 가져올 것으로 기대☞ 출처:'), Document(metadata={'source': 'ai_industry.pdf', 'page': 17}, page_content='칩 레이아웃 설계를 개선해 설계주기를 단축하고 더 높은 성능의 칩 생산에 기여n알파칩은 바둑에 특화된 알파고(AlphaGo) 및 바둑, 체스, 쇼기(일본 장기)를 마스터한'), Document(metadata={'source': 'ai_industry.pdf', 'page': 17}, page_content='설계하여 사람이 몇 주에서 몇 달이 걸리는 수준의 칩 레이아웃을 몇 시간 만에 생성하는 AI 모델 ‘알파칩’을 공개n구글은 2020년 처음 알파칩에 관한 연구 논문을 발표한 뒤,')], 'question': '알파칩의 활용방안은?'}\n",
      "Final Response:\n",
      "알파칩은 스마트폰, 의료 장비, 농업 센서 등에 사용되는 맞춤형 하드웨어의 칩 설계에 활용될 것으로 기대됩니다.\n",
      "========================\n"
     ]
    },
    {
     "name": "stdin",
     "output_type": "stream",
     "text": [
      "질문을 입력하세요:  오리 고센은 어느나라 회사야?\n"
     ]
    },
    {
     "name": "stdout",
     "output_type": "stream",
     "text": [
      "Debug Output: 오리 고센은 어느나라 회사야?\n",
      "Debug Output: {'context': [Document(metadata={'source': 'ai_industry.pdf', 'page': 24}, page_content='경기도 성남시 분당구 대왕판교로 712번길 22 글로벌 R&D 연구동(B) 4층22, Daewangpangyo-ro 712beon-gil, Bundang-gu,'), Document(metadata={'source': 'ai_industry.pdf', 'page': 8}, page_content='미국 기업이며, 다음 순위는 중국이 9%, 영국이 7%, 인도와 캐나다가 각각 4%로 미국과 상당한 격차를 기록n기업가치 10억 달러 이상의 유니콘 기업은 2024년 3분기에'), Document(metadata={'source': 'ai_industry.pdf', 'page': 18}, page_content='경우가 많아 처리 과정에서 지연이 발생n고센 CEO는 ‘맘바(Mamba)’와 ‘잠바(Jamba)’와 같은 대체 아키텍처를 활용하면 AI 에이전트를 더 효율적이고 저렴하게 만들 수')], 'question': '오리 고센은 어느나라 회사야?'}\n",
      "Final Response:\n",
      "오리 고센은 미국 기업입니다.\n",
      "========================\n"
     ]
    },
    {
     "name": "stdin",
     "output_type": "stream",
     "text": [
      "질문을 입력하세요:  ai전문가들과 일반적인 기술 전문가의 차이는?\n"
     ]
    },
    {
     "name": "stdout",
     "output_type": "stream",
     "text": [
      "Debug Output: ai전문가들과 일반적인 기술 전문가의 차이는?\n",
      "Debug Output: {'context': [Document(metadata={'source': 'ai_industry.pdf', 'page': 20}, page_content='AI 기술 전문가는 일반적인 기술 전문가 대비 기술 산업의 미래와 자기 경력에 대하여 낙관적∙이번 조사는 520명의 미국 정규직 기술 전문가와 390명의 인사 전문가의 응답을'), Document(metadata={'source': 'ai_industry.pdf', 'page': 20}, page_content='£AI 전문가들, 일반적인 기술 전문가보다 직업 전망에 낙관적n미국 기술직 채용 플랫폼 다이스(Dice)의 조사에 따르면, AI 기술 전문가는 일반적인 기술 전문가 대비 기술'), Document(metadata={'source': 'ai_industry.pdf', 'page': 20}, page_content='전문가들은 여타 기술 전문가 대비 AI 도구 사용에도 적극적이며, 업무에 생성AI가 상당한 영향을 미친다는 응답도 36%로 여타 기술 전문가(22%) 대비 높은 수치를 기록')], 'question': 'ai전문가들과 일반적인 기술 전문가의 차이는?'}\n",
      "Final Response:\n",
      "AI 전문가들은 일반적인 기술 전문가보다 직업 전망에 더 낙관적이며, AI 도구 사용에 더 적극적이고, 생성 AI가 업무에 미치는 영향에 대한 인식이 더 높습니다.\n",
      "========================\n"
     ]
    },
    {
     "name": "stdin",
     "output_type": "stream",
     "text": [
      "질문을 입력하세요:  가트너가 뭐야?\n"
     ]
    },
    {
     "name": "stdout",
     "output_type": "stream",
     "text": [
      "Debug Output: 가트너가 뭐야?\n",
      "Debug Output: {'context': [Document(metadata={'source': 'ai_industry.pdf', 'page': 21}, page_content='가트너 예측, AI로 인해 엔지니어링 인력의 80%가 역량 향상 필요n가트너에 따르면 생성AI의 도입으로 중장기적으로 소프트웨어 엔지니어링에서 데이터 과학 및 AI/ML 역량의'), Document(metadata={'source': 'ai_industry.pdf', 'page': 1}, page_content='▹ 가트너 예측, AI로 인해 엔지니어링 인력의 80%가 역량 향상 필요 ·····························19   ▹ 인디드 조사 결과, 생성AI가 인간'), Document(metadata={'source': 'ai_industry.pdf', 'page': 1}, page_content='▹ 다이스 조사, AI 전문가의 73%는 2025년 중 이직 고려················································18   ▹ 가트너')], 'question': '가트너가 뭐야?'}\n",
      "Final Response:\n",
      "가트너는 정보 기술, 소프트웨어, 서비스 및 관련 분야에 대한 연구 및 자문 서비스를 제공하는 글로벌 리서치 회사입니다.\n",
      "========================\n"
     ]
    },
    {
     "name": "stdin",
     "output_type": "stream",
     "text": [
      "질문을 입력하세요:  exit\n"
     ]
    }
   ],
   "source": [
    "while True: \n",
    "    print(\"========================\")\n",
    "    query = input(\"질문을 입력하세요: \")\n",
    "    if query == \"exit\":\n",
    "        break\n",
    "    response = rag_chain_debug.invoke(query)\n",
    "\n",
    "    print(\"Final Response:\")\n",
    "    print(response.content)"
   ]
  },
  {
   "cell_type": "markdown",
   "id": "53b4dd0c-0a50-4708-bcac-2761287fd7ae",
   "metadata": {},
   "source": [
    "# 문제점\n",
    "1. cb인사이츠는 스타트업이 실패할 것으로 예상함 ->챗봇대답: 긍정적으로 평가하고 있다\n",
    "2. 카나나는 나다운 ai 또는 카(카오의 사명)+na(tive)+na(tural) ->챗봇대답: natural\n",
    "3. 노벨상 수상자: 물리학상 수상자와 화학상 수상자가 있음 ->챗봇대답: 물리학상 수상자만 언급\n",
    "4. gaira는 미국무부가 2024년 9월 23일 발표 ->챗봇대답: 미국무부가 23년 10월 30일 발표\n",
    "5. Ori Goshen은 기업이 아니라 이스라엘 스타트업 AI12의 ceo ->챗봇대답: 오리고센은 미국기업입니다.\n",
    "6. 가트너는 시장조사기관 ->챗봇대답: 글로벌 리서치 회사입니다 ?? hallucination??\n",
    "\n",
    "# 개선방안\n",
    "* 청크사이즈 늘리기\n",
    "* 프롬프트엔지니어링"
   ]
  }
 ],
 "metadata": {
  "kernelspec": {
   "display_name": "DL",
   "language": "python",
   "name": "dl"
  },
  "language_info": {
   "codemirror_mode": {
    "name": "ipython",
    "version": 3
   },
   "file_extension": ".py",
   "mimetype": "text/x-python",
   "name": "python",
   "nbconvert_exporter": "python",
   "pygments_lexer": "ipython3",
   "version": "3.8.20"
  }
 },
 "nbformat": 4,
 "nbformat_minor": 5
}
